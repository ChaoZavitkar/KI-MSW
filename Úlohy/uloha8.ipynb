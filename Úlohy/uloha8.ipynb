{
 "cells": [
  {
   "cell_type": "code",
   "execution_count": 6,
   "metadata": {},
   "outputs": [],
   "source": [
    "def forward_derivate(f, x0, h):\n",
    "    return (f(x0+h) - f(x0))/h\n",
    "\n",
    "def backward_derivate(f, x0, h):\n",
    "    return (f(x0) - f(x0-h))/h\n",
    "\n",
    "def central_derivate(f, x0, h):\n",
    "    return (f(x0+h) - f(x0-h))/(2*h)\n",
    "\n",
    "def func(x): return x**5 - 3*x**30 + 5\n",
    "\n",
    "x0 = 4  # velikost intervalu\n",
    "h = 0.1  # krok"
   ]
  },
  {
   "cell_type": "code",
   "execution_count": 7,
   "metadata": {},
   "outputs": [
    {
     "name": "stdout",
     "output_type": "stream",
     "text": [
      "Bez adaptivního kroku: -3.796227794048001e+19, s adaptivním krokem: -2.2996152696719855e+20\n",
      "Bez adaptivního kroku: -1.8404629063581348e+19, s adaptivním krokem: -6.79158064906311e+18\n",
      "Bez adaptivního kroku: -2.8183453502030676e+19, s adaptivním krokem: -1.1837655380813083e+20\n"
     ]
    }
   ],
   "source": [
    "x0 = 4  # velikost intervalu\n",
    "h = 0.1  # krok\n",
    "adaptive_step = float(input(\"Vložte adaptivní krok: \"))  # adaptivni krok\n",
    "\n",
    "forward_der = forward_derivate(func, x0, h)\n",
    "backward_der = backward_derivate(func, x0, h)\n",
    "central_der = central_derivate(func, x0, h)\n",
    "\n",
    "func_forward_adaptive = forward_derivate(func, x0, adaptive_step)\n",
    "func_backward_adaptive = backward_derivate(func, x0, adaptive_step)\n",
    "func_central_adaptive = central_derivate(func, x0, adaptive_step)\n",
    "\n",
    "print(f'Bez adaptivního kroku: {forward_der}, s adaptivním krokem: {func_forward_adaptive}')\n",
    "print(f'Bez adaptivního kroku: {backward_der}, s adaptivním krokem: {func_backward_adaptive}')\n",
    "print(f'Bez adaptivního kroku: {central_der}, s adaptivním krokem: {func_central_adaptive}')"
   ]
  }
 ],
 "metadata": {
  "kernelspec": {
   "display_name": "Python 3",
   "language": "python",
   "name": "python3"
  },
  "language_info": {
   "codemirror_mode": {
    "name": "ipython",
    "version": 3
   },
   "file_extension": ".py",
   "mimetype": "text/x-python",
   "name": "python",
   "nbconvert_exporter": "python",
   "pygments_lexer": "ipython3",
   "version": "3.9.13"
  },
  "orig_nbformat": 4
 },
 "nbformat": 4,
 "nbformat_minor": 2
}
